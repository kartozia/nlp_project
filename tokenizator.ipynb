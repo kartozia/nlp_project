{
 "cells": [
  {
   "cell_type": "markdown",
   "metadata": {},
   "source": [
    "## Разделим текст на сообщения"
   ]
  },
  {
   "cell_type": "code",
   "execution_count": 8,
   "metadata": {
    "collapsed": true
   },
   "outputs": [],
   "source": [
    "import re"
   ]
  },
  {
   "cell_type": "code",
   "execution_count": 9,
   "metadata": {
    "collapsed": false
   },
   "outputs": [],
   "source": [
    "text = open('ling_emails.txt','r').read()\n",
    "messages = re.findall('ЭТОМОЁПИСЬМОНОМЕР:[0-9]*(.+?)ЭТОКОНЕЦПИСЬМАНОМЕР', text, flags = re.DOTALL)"
   ]
  },
  {
   "cell_type": "markdown",
   "metadata": {},
   "source": [
    "## Уберем всякую ерунду из писем (цитаты, переадресовки и т.п.)"
   ]
  },
  {
   "cell_type": "code",
   "execution_count": 729,
   "metadata": {
    "collapsed": false
   },
   "outputs": [],
   "source": [
    "def cleaner(text):\n",
    "    text1 = ''\n",
    "    for l in range(len(text)): #убираем разметку жирного шрифта\n",
    "        if text[l] != '*'or (text[l] == '*' and text[l-1] in '0123456789' and text[l+1] in '0123456789'):\n",
    "                text1 += text[l]\n",
    "        \n",
    "    lines0 = text1.split('\\n')\n",
    "    n = 0\n",
    "    lines = []\n",
    "    for i in lines0:\n",
    "        if i != '':\n",
    "            lines.append(i)\n",
    "    i = 0\n",
    "    j = 0\n",
    "    while i != len(lines):\n",
    "        if len(re.findall('[0-9]*:[0-9]* пользователь', lines[i])) > 0 or len(re.findall('On Monday|Tuesday|Wednesday|Thursday|Friday|Saturday|Sunday, [0-9]+ September|October|November|December|January|February|March|April|May|June|July|August [0-9]+, ', lines[i])) > 0 or len(re.findall('_____', lines[i])) > 0 or len(re.findall('Отправлено со', lines[i])) > 0 or len(re.findall('Sent from', lines[i]))>0 or len(re.findall('> ', lines[i])) > 0 or len(re.findall('---- Пересылаемое сообщение ----', lines[i]))>0 or len(re.findall('[0-9]{4}-[0-9]{2}-[0-9]{2} [0-9]{2}:[0-9]{2} GMT', lines[i]))>0 or len(re.findall('[0-9]{2}\\.[0-9]{2}\\.[0-9]{4}, [0-9]{2}:[0-9]{2}, \"', lines[i]))>0 or len(re.findall('пользователь.*написал', lines[i]))>0:\n",
    "            lines = lines[:i]\n",
    "            lines_str = ''\n",
    "            for j in lines:\n",
    "                lines_str += j\n",
    "                lines_str += ' '\n",
    "            break\n",
    "        if len(re.findall('Копия:', lines[i])) > 0:\n",
    "            lines = lines[i+1:]\n",
    "            lines_str = ''\n",
    "            for j in lines:\n",
    "                lines_str += j\n",
    "                lines_str += ' '\n",
    "            break\n",
    "        i += 1\n",
    "    lines_str = ''\n",
    "    for j in lines:\n",
    "        lines_str += j\n",
    "        lines_str += ' '\n",
    "    return lines_str"
   ]
  },
  {
   "cell_type": "code",
   "execution_count": 64,
   "metadata": {
    "collapsed": false
   },
   "outputs": [
    {
     "data": {
      "text/plain": [
       "5"
      ]
     },
     "execution_count": 64,
     "metadata": {},
     "output_type": "execute_result"
    }
   ],
   "source": [
    "r = re.search('aa', 'nmlaa')\n",
    "r.end()"
   ]
  },
  {
   "cell_type": "code",
   "execution_count": 34,
   "metadata": {
    "collapsed": false
   },
   "outputs": [],
   "source": [
    "def rev(x):\n",
    "    y = ''\n",
    "    for i in reversed(x):\n",
    "        y += i\n",
    "    return y"
   ]
  },
  {
   "cell_type": "code",
   "execution_count": 635,
   "metadata": {
    "collapsed": true
   },
   "outputs": [],
   "source": [
    "def sklonenie(x):\n",
    "    d = re.search('[0-9]+([а-яА-Я]+)', x)\n",
    "    if d is not None and d.group(1) in ['го', 'им', 'ым', 'му', 'ом', 'ем', 'ый', 'ий']:\n",
    "        return True\n",
    "    else:\n",
    "        return False"
   ]
  },
  {
   "cell_type": "code",
   "execution_count": 749,
   "metadata": {
    "collapsed": false
   },
   "outputs": [],
   "source": [
    "def lstrip(x):\n",
    "    punct = []\n",
    "    while len(x) > 0 and x[0] in ['?', '!', '.', ')', '(', ';', ':', '\"', '-', '—', '*' , ',', '«', '»', \"№\", '[', ']', '\\u200b']:\n",
    "        if x[0] == '.':\n",
    "            punct.append(re.match('\\.+', x).group(0)) #нашли все многоточия (в начале и в конце)\n",
    "            x = x.lstrip('\\.+') #убрали многоточие\n",
    "        elif x[0] == '?' or x[0] == '!':\n",
    "            punct.append(re.match('((!|\\?)+)', x).group(0))\n",
    "            x = x.lstrip('((!|\\?)+)')\n",
    "        elif x[0] == ')':\n",
    "            punct.append(re.match('\\)+-*:*', x).group(0)) #проверка на веселые смайлики\n",
    "            x = x.lstrip(re.match('\\)+-*:*', x).group(0))\n",
    "        elif x[0] == '(':\n",
    "            punct.append(re.match('\\(+-*:*', x).group(0)) #проверка на грустные смайлики\n",
    "            x = x.lstrip(re.match('\\(+-*:*', x).group(0))\n",
    "        elif x[0] == ':' and x[1] == '(':\n",
    "            punct.append(re.match(':-*\\(+', x).group(0))\n",
    "            x = x.lstrip(re.match(':-*\\(+', x).group(0))\n",
    "        elif x[0] == ':' and x[1] == ')':\n",
    "            punct.append(re.match(':-*\\)+', x).group(0)) #проверка на веселые смайлики\n",
    "            x = x.lstrip(re.match(':-*\\)+', x).group(0))\n",
    "        elif x[0] == '\\u200b':\n",
    "            x = x[1:]\n",
    "        else:\n",
    "            p = re.match(']|\\)|;|:|\"|-|—|\\*|,|\\(|«|»|№|\\[', x).group(0)\n",
    "            punct.append(p)\n",
    "            x = x.lstrip(p)\n",
    "    num = re.search('([0-9]+[а-яА-Яa-zA-Z]+\\.{0,1})', x)\n",
    "    if sklonenie(x) != True and num is not None and num.group(0) == x:\n",
    "        num1 = re.search('([0-9]+)([а-яА-Яa-zA-Z]+\\.{0,1})', x)\n",
    "        x = num1.group(2)\n",
    "        punct.append(num1.group(1))\n",
    "    return x, punct"
   ]
  },
  {
   "cell_type": "code",
   "execution_count": 599,
   "metadata": {
    "collapsed": false
   },
   "outputs": [],
   "source": [
    "def rstrip(x):\n",
    "    punct = []\n",
    "    x1 = rev(x)\n",
    "    while len(x1) > 0 and x1[0] in ['?', '!', '.', ')', '(', ';', ':', '\"', '-', '—', '*' , ',', '«', '»', '[', ']', '%', '$']:\n",
    "        if x1[0] == '.':\n",
    "            if init(rev(x1)) != True and red(rev(x1)) != True and cifra(x1[1:]) != True:\n",
    "                punct.append(re.match('\\.+', x1).group(0)) #нашли все многоточия (в начале и в конце)\n",
    "                x1 = x1.lstrip(re.match('\\.+', x1).group(0)) #убрали многоточие\n",
    "            else:\n",
    "                break\n",
    "        elif x1[0] == '?' or x1[0] == '!':\n",
    "            punct.append(re.match('((!|\\?)+)', x1).group(0))\n",
    "            x1 = x1.lstrip(re.match('((!|\\?)+)', x1).group(0))\n",
    "            x = rev(x1)\n",
    "        elif x1[0] == ')':\n",
    "            punct.append(re.match('\\)+-*:*', x1).group(0)) #проверка на веселые смайлики\n",
    "            x1 = x1.lstrip(re.match('\\)+-*:*', x1).group(0))\n",
    "        elif x1[0] == '(':\n",
    "            punct.append(re.match('\\(+-*:*', x1).group(0)) #проверка на грустные смайлики\n",
    "            x1 = x1.lstrip(re.match('\\(+-*:*', x1).group(0))\n",
    "        \n",
    "        else:\n",
    "            p = re.match(']|;|:|\"|-|—|\\*|,|«|»|\\[|$|%', x1).group(0)\n",
    "            punct.append(p)\n",
    "            x1 = x1.lstrip(p)\n",
    "            x = rev(x1)\n",
    "    num = re.search('([0-9]+\\.{0,1}[а-яА-Яa-zA-Z]+)', x1)\n",
    "    if num is not None and num.group(0) == x1:\n",
    "        num1 = re.search('([0-9]+)(\\.{0,1}[а-яА-Яa-zA-Z]+)', x1)\n",
    "        x1 = num1.group(2)\n",
    "        punct.append(num1.group(1))\n",
    "    for i in range(len(punct)): #перевернуть скобки обратно\n",
    "        punct[i] = rev(punct[i])\n",
    "    return rev(x1), list(reversed(punct))"
   ]
  },
  {
   "cell_type": "code",
   "execution_count": 573,
   "metadata": {
    "collapsed": false
   },
   "outputs": [],
   "source": [
    "def red(x):\n",
    "    reduces = ['д.', 'доб.', 'каб.', 'ул.', 'тел.', 'м.', 'пер.', 'руб.', 'e.g.', 'т.к.', 'гг.', 'г.', 'тыс.', 'тысч.', 'англ.', 'д.э.н.', 'к.ф.н.', 'д.ф.н.', 'ауд.', 'ноябр.', 'дек.', 'янв.', 'апр.', 'сент.', 'окт.', 'фев.', 'п.', 'к.', 'т.е.', 'л.', 'к.и.н.', 'см.', 'прил.', 'стр.', 'в.н.с.', 'мин.', 'М.', 'т.п.', 'P.S.', 'м.б.', 'им.', 'к.', 'н.', 'филос.']\n",
    "    red_occ = re.search('([А-Я]\\.)', x)\n",
    "    if x.lower() in reduces:\n",
    "        return True\n",
    "    elif red_occ is not None:\n",
    "        if red_occ.group(0) == x:\n",
    "            return True\n",
    "    else:\n",
    "        return False"
   ]
  },
  {
   "cell_type": "code",
   "execution_count": 570,
   "metadata": {
    "collapsed": true
   },
   "outputs": [],
   "source": [
    "def cifra(x):\n",
    "    if x in ['0', '1', '2', '3', '4', '5', '6', '7', '8', '9', 'I', 'II', 'III', 'IV', 'V', 'VI', 'VII', 'VIII', 'IX', 'X']:\n",
    "        return True\n",
    "    else:\n",
    "        return False"
   ]
  },
  {
   "cell_type": "code",
   "execution_count": 38,
   "metadata": {
    "collapsed": false
   },
   "outputs": [],
   "source": [
    "def init(x):\n",
    "    flag = False\n",
    "    s = re.search('([А-Я]\\.[А-Я]\\.)', x)\n",
    "    if s is not None:\n",
    "        if s.group(0) == x:\n",
    "            flag = True\n",
    "    return flag"
   ]
  },
  {
   "cell_type": "code",
   "execution_count": 661,
   "metadata": {
    "collapsed": false
   },
   "outputs": [],
   "source": [
    "def interval(x):\n",
    "    s = re.search('([0-9]+-[0-9]+)', x)\n",
    "    if s is not None and s.group(0) == x:\n",
    "        return True\n",
    "    else:\n",
    "        return False"
   ]
  },
  {
   "cell_type": "code",
   "execution_count": 674,
   "metadata": {
    "collapsed": true
   },
   "outputs": [],
   "source": [
    "def house(x):\n",
    "    s = re.search('[0-9]+/[0-9]+', x)\n",
    "    if s is not None and s.group(0) == x:\n",
    "        return True\n",
    "    else:\n",
    "        return False"
   ]
  },
  {
   "cell_type": "code",
   "execution_count": 699,
   "metadata": {
    "collapsed": false
   },
   "outputs": [],
   "source": [
    "def splitter(text):\n",
    "    if text == '':\n",
    "        return ''\n",
    "    text = cleaner(text)\n",
    "    words = text.split() #по умолчанию делим по пробелу, единые сущности, разделенные пробелом, будут рассмотрены потом\n",
    "    words2 = []\n",
    "    \n",
    "    for x in range(len(words)):\n",
    "        lstr = lstrip(words[x]) #стрип слева\n",
    "        if len(lstr[1]) != 0:\n",
    "            words2 += lstr[1] #знаки препинания перед словом\n",
    "        rstr = rstrip(lstr[0]) #стрип справа\n",
    "        if '(' in rstr[0]: #проверка на скобку внутри слова, часто перед ней нет пробела\n",
    "            words2.append(rstr[0].split('(')[0])\n",
    "            words2.append('(')\n",
    "            words2.append(rstr[0].split('(')[1])\n",
    "        elif '/' in rstr[0]  and 'www' not in rstr[0] and 'http' not in rstr[0] and 'ru' not in rstr[0] and house(rstr[0]) != True: #проверка на слеш внутри слова\n",
    "            words2.append(rstr[0].split(re.search('/+', rstr[0]).group(0))[0])\n",
    "            words2.append(re.search('/+', rstr[0]).group(0))\n",
    "            words2.append(rstr[0].split(re.search('/+', rstr[0]).group(0))[1])\n",
    "        elif ',' in rstr[0]: #проверка на запятую внутри слова\n",
    "            words2.append(rstr[0].split(',')[0])\n",
    "            words2.append(',')\n",
    "            words2.append(rstr[0].split(',')[1])\n",
    "        elif '-' in rstr[0] and interval(rstr[0]) == True:\n",
    "                words2.append(rstr[0].split('-')[0])\n",
    "                words2.append('-')\n",
    "                words2.append(rstr[0].split('-')[1])\n",
    "        else:\n",
    "            words2.append(rstr[0]) #итоговое слово\n",
    "        if len(rstr[1]) != 0:\n",
    "            words2 += rstr[1] #знаки препинания после слова\n",
    "                \n",
    "    words3 = []\n",
    "    for i in words2:\n",
    "        if i != '':\n",
    "            words3.append(i)\n",
    "    if words3[-1] == '-':\n",
    "        words3 = words3[:-1]\n",
    "        \n",
    "    return words3"
   ]
  },
  {
   "cell_type": "code",
   "execution_count": 764,
   "metadata": {
    "collapsed": false
   },
   "outputs": [
    {
     "data": {
      "text/plain": [
       "'Катя спросила меня, нужно ли читать статьи, указанные в вопросах, если я их не задавала. Действительно - там остались некоторые тексты с прошлого года. Я сняла их, но оставила ссылки на учебник Мейерхоф:  это наш базовый учебник, и вы можете читать его по любым темам, которые есть в вопросах. --  Nina Dobrushina '"
      ]
     },
     "execution_count": 764,
     "metadata": {},
     "output_type": "execute_result"
    }
   ],
   "source": [
    "cleaner(messages[100])"
   ]
  },
  {
   "cell_type": "code",
   "execution_count": 765,
   "metadata": {
    "collapsed": false
   },
   "outputs": [
    {
     "data": {
      "text/plain": [
       "['Катя',\n",
       " 'спросила',\n",
       " 'меня',\n",
       " ',',\n",
       " 'нужно',\n",
       " 'ли',\n",
       " 'читать',\n",
       " 'статьи',\n",
       " ',',\n",
       " 'указанные',\n",
       " 'в',\n",
       " 'вопросах',\n",
       " ',',\n",
       " 'если',\n",
       " 'я',\n",
       " 'их',\n",
       " 'не',\n",
       " 'задавала',\n",
       " '.',\n",
       " 'Действительно',\n",
       " '-',\n",
       " 'там',\n",
       " 'остались',\n",
       " 'некоторые',\n",
       " 'тексты',\n",
       " 'с',\n",
       " 'прошлого',\n",
       " 'года',\n",
       " '.',\n",
       " 'Я',\n",
       " 'сняла',\n",
       " 'их',\n",
       " ',',\n",
       " 'но',\n",
       " 'оставила',\n",
       " 'ссылки',\n",
       " 'на',\n",
       " 'учебник',\n",
       " 'Мейерхоф',\n",
       " ':',\n",
       " 'это',\n",
       " 'наш',\n",
       " 'базовый',\n",
       " 'учебник',\n",
       " ',',\n",
       " 'и',\n",
       " 'вы',\n",
       " 'можете',\n",
       " 'читать',\n",
       " 'его',\n",
       " 'по',\n",
       " 'любым',\n",
       " 'темам',\n",
       " ',',\n",
       " 'которые',\n",
       " 'есть',\n",
       " 'в',\n",
       " 'вопросах',\n",
       " '.',\n",
       " '-',\n",
       " 'Nina',\n",
       " 'Dobrushina']"
      ]
     },
     "execution_count": 765,
     "metadata": {},
     "output_type": "execute_result"
    }
   ],
   "source": [
    "splitter(messages[100])"
   ]
  },
  {
   "cell_type": "code",
   "execution_count": null,
   "metadata": {
    "collapsed": true
   },
   "outputs": [],
   "source": []
  }
 ],
 "metadata": {
  "anaconda-cloud": {},
  "kernelspec": {
   "display_name": "Python [default]",
   "language": "python",
   "name": "python3"
  },
  "language_info": {
   "codemirror_mode": {
    "name": "ipython",
    "version": 3
   },
   "file_extension": ".py",
   "mimetype": "text/x-python",
   "name": "python",
   "nbconvert_exporter": "python",
   "pygments_lexer": "ipython3",
   "version": "3.5.2"
  }
 },
 "nbformat": 4,
 "nbformat_minor": 1
}
