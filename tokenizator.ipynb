{
 "cells": [
  {
   "cell_type": "markdown",
   "metadata": {},
   "source": [
    "## Разделим текст на сообщения"
   ]
  },
  {
   "cell_type": "code",
   "execution_count": 8,
   "metadata": {
    "collapsed": true
   },
   "outputs": [],
   "source": [
    "import re"
   ]
  },
  {
   "cell_type": "code",
   "execution_count": 9,
   "metadata": {
    "collapsed": false
   },
   "outputs": [],
   "source": [
    "text = open('ling_emails.txt','r').read()\n",
    "messages = re.findall('ЭТОМОЁПИСЬМОНОМЕР:[0-9]*(.+?)ЭТОКОНЕЦПИСЬМАНОМЕР', text, flags = re.DOTALL)"
   ]
  },
  {
   "cell_type": "markdown",
   "metadata": {},
   "source": [
    "## Уберем всякую ерунду из писем (цитаты, переадресовки и т.п.)"
   ]
  },
  {
   "cell_type": "code",
   "execution_count": 325,
   "metadata": {
    "collapsed": false
   },
   "outputs": [],
   "source": [
    "def cleaner(text):\n",
    "    lines0 = text.split('\\n')\n",
    "    n = 0\n",
    "    lines = []\n",
    "    for i in lines0:\n",
    "        if i != '':\n",
    "            lines.append(i)\n",
    "    i = 0\n",
    "    j = 0\n",
    "    while i != len(lines):\n",
    "        if len(re.findall('[0-9]*:[0-9]* пользователь', lines[i])) > 0 or len(re.findall('On Monday|Tuesday|Wednesday|Thursday|Friday|Saturday|Sunday, [0-9]+ September|October|November|December|January|February|March|April|May|June|July|August [0-9]+, ', lines[i])) > 0 or len(re.findall('_____', lines[i])) > 0 or len(re.findall('Отправлено со', lines[i])) > 0 or len(re.findall('Sent from', lines[i]))>0 or len(re.findall('> ', lines[i])) > 0 or len(re.findall('---------- Пересылаемое сообщение ----------', lines[i]))>0:\n",
    "            lines = lines[:i]\n",
    "            lines_str = ''\n",
    "            for j in lines:\n",
    "                lines_str += j\n",
    "                lines_str += ' '\n",
    "            break\n",
    "        if len(re.findall('Копия:', lines[i])) > 0:\n",
    "            lines = lines[i+1:]\n",
    "            lines_str = ''\n",
    "            for j in lines:\n",
    "                lines_str += j\n",
    "                lines_str += ' '\n",
    "            break\n",
    "        i += 1\n",
    "    lines_str = ''\n",
    "    for j in lines:\n",
    "        lines_str += j\n",
    "        lines_str += ' '\n",
    "    return lines_str"
   ]
  },
  {
   "cell_type": "code",
   "execution_count": 64,
   "metadata": {
    "collapsed": false
   },
   "outputs": [
    {
     "data": {
      "text/plain": [
       "5"
      ]
     },
     "execution_count": 64,
     "metadata": {},
     "output_type": "execute_result"
    }
   ],
   "source": [
    "r = re.search('aa', 'nmlaa')\n",
    "r.end()"
   ]
  },
  {
   "cell_type": "code",
   "execution_count": 34,
   "metadata": {
    "collapsed": false
   },
   "outputs": [],
   "source": [
    "def rev(x):\n",
    "    y = ''\n",
    "    for i in reversed(x):\n",
    "        y += i\n",
    "    return y"
   ]
  },
  {
   "cell_type": "code",
   "execution_count": 203,
   "metadata": {
    "collapsed": false
   },
   "outputs": [],
   "source": [
    "def lstrip(x):\n",
    "    punct = []\n",
    "    while len(x) > 0 and x[0] in ['?', '!', '.', ')', '(', ';', ':', '\"', '-', '—', '*' , ',']:\n",
    "        if x[0] == '.':\n",
    "            punct.append(re.match('\\.+', x).group(0)) #нашли все многоточия (в начале и в конце)\n",
    "            x = x.lstrip('\\.+') #убрали многоточие\n",
    "        elif x[0] == '?' or x[0] == '!':\n",
    "            punct.append(re.match('((!|\\?)+)', x).group(0))\n",
    "            x = x.lstrip('((!|\\?)+)')\n",
    "        else:\n",
    "            p = re.match('\\)|;|:|\"|-|—|\\*|,|\\(', x).group(0)\n",
    "            punct.append(p)\n",
    "            x = x.lstrip(p)\n",
    "    return x, punct"
   ]
  },
  {
   "cell_type": "code",
   "execution_count": 342,
   "metadata": {
    "collapsed": false
   },
   "outputs": [],
   "source": [
    "def rstrip(x):\n",
    "    punct = []\n",
    "    x1 = rev(x)\n",
    "    while len(x1) > 0 and x1[0] in ['?', '!', '.', ')', '(', ';', ':', '\"', '-', '—', '*' , ',']:\n",
    "        if x1[0] == '.':\n",
    "            if init(rev(x1)) != True and red(rev(x1)) != True:\n",
    "                punct.append(re.match('\\.+', x1).group(0)) #нашли все многоточия (в начале и в конце)\n",
    "                x1 = x1.lstrip(re.match('\\.+', x1).group(0)) #убрали многоточие\n",
    "            else:\n",
    "                break\n",
    "        elif x1[0] == '?' or x1[0] == '!':\n",
    "            punct.append(re.match('((!|\\?)+)', x1).group(0))\n",
    "            x1 = x1.lstrip(re.match('((!|\\?)+)', x1).group(0))\n",
    "            x = rev(x1)\n",
    "        elif x1[0] == ')':\n",
    "            punct.append(re.match('\\)+-*:*', x1).group(0)) #проверка на веселые смайлики\n",
    "            x1 = x1.lstrip(re.match('\\)+-*:*', x1).group(0))\n",
    "        elif x1[0] == '(':\n",
    "            punct.append(re.match('\\(+-*:*', x1).group(0)) #проверка на грустные смайлики\n",
    "            x1 = x1.lstrip(re.match('\\(+-*:*', x1).group(0))\n",
    "        else:\n",
    "            p = re.match(';|:|\"|-|—|\\*|,', x1).group(0)\n",
    "            punct.append(p)\n",
    "            x1 = x1.lstrip(p)\n",
    "            x = rev(x1)\n",
    "    num = re.search('([0-9]+\\.{0,1}[а-яА-Яa-zA-Z]+)', x1)\n",
    "    if num is not None and num.group(0) == x1:\n",
    "        num1 = re.search('([0-9]+)(\\.{0,1}[а-яА-Яa-zA-Z]+)', x1)\n",
    "        x1 = num1.group(2)\n",
    "        punct.append(num1.group(1))\n",
    "    for i in range(len(punct)): #перевернуть скобки обратно\n",
    "        punct[i] = rev(punct[i])\n",
    "    return rev(x1), list(reversed(punct))"
   ]
  },
  {
   "cell_type": "code",
   "execution_count": 319,
   "metadata": {
    "collapsed": false
   },
   "outputs": [],
   "source": [
    "def red(x):\n",
    "    reduces = ['д.', 'доб.', 'каб.', 'ул.', 'тел.', 'м.', 'пер.', 'руб.', 'e.g.', 'т.к.', 'гг.', 'г.', 'тыс.', 'тысч.', 'англ.', 'д.э.н.', 'к.ф.н.', 'д.ф.н.', 'ауд.', 'ноябр.', 'дек.', 'янв.', 'апр.', 'сент.', 'окт.', 'фев.', 'п.', 'к.', 'т.е.', 'л.', 'к.и.н.', 'см.', 'прил.', 'стр.', 'в.н.с.', 'мин.', 'М.', 'т.п.', 'P.S.']\n",
    "    if x in reduces:\n",
    "        return True\n",
    "    else:\n",
    "        return False"
   ]
  },
  {
   "cell_type": "code",
   "execution_count": 38,
   "metadata": {
    "collapsed": false
   },
   "outputs": [],
   "source": [
    "def init(x):\n",
    "    flag = False\n",
    "    s = re.search('([А-Я]\\.[А-Я]\\.)', x)\n",
    "    if s is not None:\n",
    "        if s.group(0) == x:\n",
    "            flag = True\n",
    "    return flag"
   ]
  },
  {
   "cell_type": "code",
   "execution_count": 311,
   "metadata": {
    "collapsed": false
   },
   "outputs": [],
   "source": [
    "def splitter(text):\n",
    "    text = cleaner(text)\n",
    "    words = text.split() #по умолчанию делим по пробелу, единые сущности, разделенные пробелом, будут рассмотрены потом\n",
    "    words2 = []\n",
    "    \n",
    "    for x in range(len(words)):\n",
    "            lstr = lstrip(words[x]) #стрип слева\n",
    "            if len(lstr[1]) != 0:\n",
    "                words2 += lstr[1] #знаки препинания перед словом\n",
    "            rstr = rstrip(lstr[0]) #стрип справа\n",
    "            if '(' in rstr[0]: #проверка на скобку внутри слова, часто перед ней нет пробела\n",
    "                words2.append(rstr[0].split('(')[0])\n",
    "                words2.append('(')\n",
    "                words2.append(rstr[0].split('(')[1])\n",
    "            else:\n",
    "                words2.append(rstr[0]) #итоговое слово\n",
    "            if len(rstr[1]) != 0:\n",
    "                words2 += rstr[1] #знаки препинания после слова\n",
    "                \n",
    "    words3 = []\n",
    "    for i in words2:\n",
    "        if i != '':\n",
    "            words3.append(i)\n",
    "    return words3"
   ]
  },
  {
   "cell_type": "code",
   "execution_count": 346,
   "metadata": {
    "collapsed": false
   },
   "outputs": [
    {
     "data": {
      "text/plain": [
       "'Дорогие ребята, как вы знаете, в эту пятницу у вас последний шанс сдать переделанные работы. Но для этого необходимо забрать старые работы. Сегодня вы можете нати меня в университете до 16.40, завтра - весь день. Либо сами-молодцы заберете из 518 (первая полочка - Никитина). Если у вас есть какие-то вопросы, пишите! Всего доброго, Лена '"
      ]
     },
     "execution_count": 346,
     "metadata": {},
     "output_type": "execute_result"
    }
   ],
   "source": [
    "cleaner(messages[32])"
   ]
  },
  {
   "cell_type": "code",
   "execution_count": 347,
   "metadata": {
    "collapsed": false
   },
   "outputs": [
    {
     "data": {
      "text/plain": [
       "['Дорогие',\n",
       " 'ребята',\n",
       " ',',\n",
       " 'как',\n",
       " 'вы',\n",
       " 'знаете',\n",
       " ',',\n",
       " 'в',\n",
       " 'эту',\n",
       " 'пятницу',\n",
       " 'у',\n",
       " 'вас',\n",
       " 'последний',\n",
       " 'шанс',\n",
       " 'сдать',\n",
       " 'переделанные',\n",
       " 'работы',\n",
       " '.',\n",
       " 'Но',\n",
       " 'для',\n",
       " 'этого',\n",
       " 'необходимо',\n",
       " 'забрать',\n",
       " 'старые',\n",
       " 'работы',\n",
       " '.',\n",
       " 'Сегодня',\n",
       " 'вы',\n",
       " 'можете',\n",
       " 'нати',\n",
       " 'меня',\n",
       " 'в',\n",
       " 'университете',\n",
       " 'до',\n",
       " '16.40',\n",
       " ',',\n",
       " 'завтра',\n",
       " '-',\n",
       " 'весь',\n",
       " 'день',\n",
       " '.',\n",
       " 'Либо',\n",
       " 'сами-молодцы',\n",
       " 'заберете',\n",
       " 'из',\n",
       " '518',\n",
       " '(',\n",
       " 'первая',\n",
       " 'полочка',\n",
       " '-',\n",
       " 'Никитина',\n",
       " ')',\n",
       " '.',\n",
       " 'Если',\n",
       " 'у',\n",
       " 'вас',\n",
       " 'есть',\n",
       " 'какие-то',\n",
       " 'вопросы',\n",
       " ',',\n",
       " 'пишите',\n",
       " '!',\n",
       " 'Всего',\n",
       " 'доброго',\n",
       " ',',\n",
       " 'Лена']"
      ]
     },
     "execution_count": 347,
     "metadata": {},
     "output_type": "execute_result"
    }
   ],
   "source": [
    "splitter(messages[32])"
   ]
  },
  {
   "cell_type": "code",
   "execution_count": null,
   "metadata": {
    "collapsed": true
   },
   "outputs": [],
   "source": []
  }
 ],
 "metadata": {
  "anaconda-cloud": {},
  "kernelspec": {
   "display_name": "Python [default]",
   "language": "python",
   "name": "python3"
  },
  "language_info": {
   "codemirror_mode": {
    "name": "ipython",
    "version": 3
   },
   "file_extension": ".py",
   "mimetype": "text/x-python",
   "name": "python",
   "nbconvert_exporter": "python",
   "pygments_lexer": "ipython3",
   "version": "3.5.2"
  }
 },
 "nbformat": 4,
 "nbformat_minor": 1
}
