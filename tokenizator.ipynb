{
 "cells": [
  {
   "cell_type": "markdown",
   "metadata": {},
   "source": [
    "## Разделим текст на сообщения"
   ]
  },
  {
   "cell_type": "code",
   "execution_count": 1,
   "metadata": {
    "collapsed": true
   },
   "outputs": [],
   "source": [
    "import re"
   ]
  },
  {
   "cell_type": "code",
   "execution_count": 2,
   "metadata": {
    "collapsed": false
   },
   "outputs": [],
   "source": [
    "text = open('ling_emails.txt','r').read()\n",
    "messages = re.findall('ЭТОМОЁПИСЬМОНОМЕР:[0-9]*(.+?)ЭТОКОНЕЦПИСЬМАНОМЕР', text, flags = re.DOTALL)"
   ]
  },
  {
   "cell_type": "markdown",
   "metadata": {},
   "source": [
    "## Уберем цитаты"
   ]
  },
  {
   "cell_type": "code",
   "execution_count": 3,
   "metadata": {
    "collapsed": true
   },
   "outputs": [],
   "source": [
    "def cleaner(text):\n",
    "    lines0 = text.split('\\n')\n",
    "    n = 0\n",
    "    lines = []\n",
    "    for i in lines0:\n",
    "        if i != '':\n",
    "            lines.append(i)\n",
    "    i = 0\n",
    "    while i != len(lines):\n",
    "        if len(re.findall('[0-9]*:[0-9]* пользователь', lines[i])) > 0:\n",
    "            break\n",
    "        i += 1\n",
    "    lines = lines[:i]\n",
    "    lines_str = ''\n",
    "    for i in lines:\n",
    "        lines_str += i\n",
    "        lines_str += ' '\n",
    "    return lines_str"
   ]
  },
  {
   "cell_type": "code",
   "execution_count": 13,
   "metadata": {
    "collapsed": false
   },
   "outputs": [],
   "source": [
    "def rev(x):\n",
    "    y = ''\n",
    "    for i in reversed(x):\n",
    "        y += i\n",
    "    return y"
   ]
  },
  {
   "cell_type": "code",
   "execution_count": 42,
   "metadata": {
    "collapsed": false
   },
   "outputs": [],
   "source": [
    "def lstrip(x):\n",
    "    punct = []\n",
    "    while x[0] in ['?', '!', '.', ')', '(', ';', ':', '\"', '-', '—', '*' , ',']:\n",
    "        if x[0] == '.':\n",
    "            punct.append(re.match('\\.+', x).group(0)) #нашли все многоточия (в начале и в конце)\n",
    "            x = x.lstrip('\\.+') #убрали многоточие\n",
    "        elif x[0] == '?' or x[0] == '!':\n",
    "            punct.append(re.match('(!|\\?)+', x).group(0))\n",
    "            x = x.lstrip('(!|\\?)+')\n",
    "        else:\n",
    "            p = re.match('\\)|;|:|\"|-|—|\\*|,|\\(', x).group(0)\n",
    "            punct.append(p)\n",
    "            x = x.lstrip(p)\n",
    "    return x, punct\n",
    "#    if x != r'[А-Я]\\.[А-Я]\\.': проверка на аббревиатуру"
   ]
  },
  {
   "cell_type": "code",
   "execution_count": 17,
   "metadata": {
    "collapsed": true
   },
   "outputs": [],
   "source": [
    "def rstrip(x):\n",
    "    x = rev(x)\n",
    "    punct = []\n",
    "    while x[0] in ['?', '!', '.', ')', '(', ';', ':', '\"', '-', '—', '*' , ',']:\n",
    "        if x[0] == '.':\n",
    "            punct.append(re.match('\\.+', x).group(0)) #нашли все многоточия (в начале и в конце)\n",
    "            x = x.lstrip('\\.+') #убрали многоточие\n",
    "        elif x[0] == '?' or x[0] == '!':\n",
    "            punct.append(re.match('(!|\\?)+', x).group(0))\n",
    "            x = x.lstrip('(!|\\?)+')\n",
    "        else:\n",
    "            p = re.match('\\)|;|:|\"|-|—|\\*|,|\\(', x).group(0)\n",
    "            punct.append(p)\n",
    "            x = x.lstrip(p)\n",
    "    x = rev(x)\n",
    "    return x, list(reversed(punct))\n",
    "#    if x != r'[А-Я]\\.[А-Я]\\.': проверка на аббревиатуру"
   ]
  },
  {
   "cell_type": "code",
   "execution_count": 44,
   "metadata": {
    "collapsed": false
   },
   "outputs": [],
   "source": [
    "def splitter(text):\n",
    "    text = cleaner(text)\n",
    "    words = text.split() #по умолчанию делим по пробелу, единые сущности, разделенные пробелом, будут рассмотрены потом\n",
    "    words2 = []\n",
    "    \n",
    "    for x in range(len(words)):\n",
    "        lstr = lstrip(words[x]) #стрип слева\n",
    "        if len(lstr[1]) != 0:\n",
    "            words2 += lstr[1] #знаки препинания перед словом\n",
    "        rstr = rstrip(lstr[0]) #стрип справа\n",
    "        words2.append(rstr[0]) #итоговое слово\n",
    "        if len(rstr[1]) != 0:\n",
    "            words2 += rstr[1] #знаки препинания после слова\n",
    "    \n",
    "    return words2"
   ]
  },
  {
   "cell_type": "code",
   "execution_count": 45,
   "metadata": {
    "collapsed": false
   },
   "outputs": [
    {
     "data": {
      "text/plain": [
       "'Дорогие студенты! Можем ли мы устроить встречу по арабскому и хакасскому в понедельник? У меня занято время с 17:00 и с 12:10 до 13:30, можем ли мы встретиться между этими двумя интервалами, например, в два или в три? Если вы хотите задать какие-нибудь вопросы, присылайте разобранные текстики, а я ещё подкину. До свидания, А.Б. '"
      ]
     },
     "execution_count": 45,
     "metadata": {},
     "output_type": "execute_result"
    }
   ],
   "source": [
    "cleaner(messages[1])"
   ]
  },
  {
   "cell_type": "code",
   "execution_count": 46,
   "metadata": {
    "collapsed": false
   },
   "outputs": [
    {
     "data": {
      "text/plain": [
       "['Дорогие',\n",
       " 'студенты',\n",
       " '!',\n",
       " 'Можем',\n",
       " 'ли',\n",
       " 'мы',\n",
       " 'устроить',\n",
       " 'встречу',\n",
       " 'по',\n",
       " 'арабскому',\n",
       " 'и',\n",
       " 'хакасскому',\n",
       " 'в',\n",
       " 'понедельник',\n",
       " '?',\n",
       " 'У',\n",
       " 'меня',\n",
       " 'занято',\n",
       " 'время',\n",
       " 'с',\n",
       " '17:00',\n",
       " 'и',\n",
       " 'с',\n",
       " '12:10',\n",
       " 'до',\n",
       " '13:30',\n",
       " ',',\n",
       " 'можем',\n",
       " 'ли',\n",
       " 'мы',\n",
       " 'встретиться',\n",
       " 'между',\n",
       " 'этими',\n",
       " 'двумя',\n",
       " 'интервалами',\n",
       " ',',\n",
       " 'например',\n",
       " ',',\n",
       " 'в',\n",
       " 'два',\n",
       " 'или',\n",
       " 'в',\n",
       " 'три',\n",
       " '?',\n",
       " 'Если',\n",
       " 'вы',\n",
       " 'хотите',\n",
       " 'задать',\n",
       " 'какие-нибудь',\n",
       " 'вопросы',\n",
       " ',',\n",
       " 'присылайте',\n",
       " 'разобранные',\n",
       " 'текстики',\n",
       " ',',\n",
       " 'а',\n",
       " 'я',\n",
       " 'ещё',\n",
       " 'подкину',\n",
       " '.',\n",
       " 'До',\n",
       " 'свидания',\n",
       " ',',\n",
       " 'А.Б',\n",
       " '.']"
      ]
     },
     "execution_count": 46,
     "metadata": {},
     "output_type": "execute_result"
    }
   ],
   "source": [
    "splitter(messages[1])"
   ]
  },
  {
   "cell_type": "code",
   "execution_count": 151,
   "metadata": {
    "collapsed": false
   },
   "outputs": [
    {
     "data": {
      "text/plain": [
       "['Добрый',\n",
       " 'день',\n",
       " 'Александр',\n",
       " 'Борисович',\n",
       " 'А',\n",
       " 'вы',\n",
       " 'можете',\n",
       " 'в',\n",
       " 'другой',\n",
       " 'день',\n",
       " 'кроме',\n",
       " 'вторника',\n",
       " 'Во',\n",
       " 'вторник',\n",
       " 'у',\n",
       " 'всех',\n",
       " 'майноры',\n",
       " 'будет',\n",
       " 'не',\n",
       " 'очень',\n",
       " 'удобно.',\n",
       " 'С',\n",
       " 'уважением',\n",
       " 'Лингвисты',\n",
       " '2',\n",
       " 'курс',\n",
       " 'On',\n",
       " 'Saturday',\n",
       " '28',\n",
       " 'May',\n",
       " '2016',\n",
       " 'Alexander',\n",
       " 'Letuchiy',\n",
       " '<alexander.letuchiy@gmail.com>',\n",
       " 'wrote',\n",
       " '>',\n",
       " 'Дорогие',\n",
       " 'студенты',\n",
       " '>',\n",
       " '>',\n",
       " 'Вы',\n",
       " 'не',\n",
       " 'ответили',\n",
       " 'про',\n",
       " 'понедельник',\n",
       " 'но',\n",
       " 'я',\n",
       " 'вот',\n",
       " 'чего',\n",
       " 'не',\n",
       " 'сообразил',\n",
       " 'в',\n",
       " 'понедельник',\n",
       " '>',\n",
       " 'у',\n",
       " 'меня',\n",
       " 'конференция.',\n",
       " 'Можем',\n",
       " 'ли',\n",
       " 'мы',\n",
       " 'встретиться',\n",
       " 'во',\n",
       " 'вторник',\n",
       " 'Там',\n",
       " 'защиты',\n",
       " '>',\n",
       " 'курсовых',\n",
       " 'но',\n",
       " 'надеюсь',\n",
       " 'время',\n",
       " 'можно',\n",
       " 'выкроить.',\n",
       " '>',\n",
       " '>',\n",
       " 'До',\n",
       " 'свидания',\n",
       " '>',\n",
       " '>',\n",
       " 'АБ',\n",
       " '>']"
      ]
     },
     "execution_count": 151,
     "metadata": {},
     "output_type": "execute_result"
    }
   ],
   "source": [
    "splitter(messages[3])"
   ]
  },
  {
   "cell_type": "code",
   "execution_count": null,
   "metadata": {
    "collapsed": true
   },
   "outputs": [],
   "source": []
  }
 ],
 "metadata": {
  "anaconda-cloud": {},
  "kernelspec": {
   "display_name": "Python [default]",
   "language": "python",
   "name": "python3"
  },
  "language_info": {
   "codemirror_mode": {
    "name": "ipython",
    "version": 3
   },
   "file_extension": ".py",
   "mimetype": "text/x-python",
   "name": "python",
   "nbconvert_exporter": "python",
   "pygments_lexer": "ipython3",
   "version": "3.5.2"
  }
 },
 "nbformat": 4,
 "nbformat_minor": 1
}
