{
 "cells": [
  {
   "cell_type": "markdown",
   "metadata": {},
   "source": [
    "Программа переводит файл mbox с письмами (архив с которыми надо предварительно выгрузить с почты) в файл .txt"
   ]
  },
  {
   "cell_type": "code",
   "execution_count": 1,
   "metadata": {
    "collapsed": true
   },
   "outputs": [],
   "source": [
    "import mailbox\n",
    "\n",
    "def getcharsets(msg):\n",
    "    charsets = set({})\n",
    "    for c in msg.get_charsets():\n",
    "        if c is not None:\n",
    "            charsets.update([c])\n",
    "    return charsets\n",
    "\n",
    "def handleerror(errmsg, emailmsg,cs):\n",
    "    print()\n",
    "    print(errmsg)\n",
    "    print(\"This error occurred while decoding with \",cs,\" charset.\")\n",
    "    print(\"These charsets were found in the one email.\",getcharsets(emailmsg))\n",
    "    print(\"This is the subject:\",emailmsg['subject'])\n",
    "    print(\"This is the sender:\",emailmsg['From'])\n",
    "\n",
    "\n",
    "def getbodyfromemail(msg):\n",
    "    body = None\n",
    "    #Walk through the parts of the email to find the text body.    \n",
    "    if msg.is_multipart():    \n",
    "        for part in msg.walk():\n",
    "\n",
    "            # If part is multipart, walk through the subparts.            \n",
    "            if part.is_multipart(): \n",
    "\n",
    "                for subpart in part.walk():\n",
    "                    if subpart.get_content_type() == 'text/plain':\n",
    "                        # Get the subpart payload (i.e the message body)\n",
    "                        body = subpart.get_payload(decode=True) \n",
    "                        #charset = subpart.get_charset()\n",
    "\n",
    "            # Part isn't multipart so get the email body\n",
    "            elif part.get_content_type() == 'text/plain':\n",
    "                body = part.get_payload(decode=True)\n",
    "                #charset = part.get_charset()\n",
    "\n",
    "    # If this isn't a multi-part message then get the payload (i.e the message body)\n",
    "    elif msg.get_content_type() == 'text/plain':\n",
    "        body = msg.get_payload(decode=True) \n",
    "\n",
    "   # No checking done to match the charset with the correct part. \n",
    "    for charset in getcharsets(msg):\n",
    "        try:\n",
    "            body = body.decode(charset)\n",
    "        except UnicodeDecodeError:\n",
    "            handleerror(\"UnicodeDecodeError: encountered.\",msg,charset)\n",
    "        except AttributeError:\n",
    "             handleerror(\"AttributeError: encountered\" ,msg,charset)\n",
    "    return body"
   ]
  },
  {
   "cell_type": "code",
   "execution_count": 2,
   "metadata": {
    "collapsed": false
   },
   "outputs": [
    {
     "name": "stdout",
     "output_type": "stream",
     "text": [
      "mbox\n"
     ]
    }
   ],
   "source": [
    "mboxfile = 'masha_mails.mbox'\n",
    "#print(mboxfile)\n",
    "file = open('my_emails.txt', 'w', encoding = 'utf-8')\n",
    "n = 0\n",
    "for thisemail in mailbox.mbox(mboxfile):\n",
    "    body = getbodyfromemail(thisemail)\n",
    "    if body:\n",
    "        n += 1\n",
    "        file.write('\\nЭТОМОЁПИСЬМОНОМЕР:' + str(n) + '\\n')\n",
    "        file.write(str(body[0:1000]))\n",
    "        file.write('\\nЭТОКОНЕЦПИСЬМАНОМЕР:' + str(n) + '\\n')\n",
    "        #if UnicodeEncodeError:\n",
    "        #    pass\n",
    "        #else:\n",
    "            #print('\\nЭТОМОЁПИСЬМОНОМЕР:' + str(n) + '\\n')\n",
    "            #print(body[0:1000])\n",
    "            #print('\\nЭТОКОНЕЦПИСЬМАНОМЕР:' + str(n))\n",
    "    else:\n",
    "        pass\n",
    "file.close()"
   ]
  },
  {
   "cell_type": "code",
   "execution_count": null,
   "metadata": {
    "collapsed": true
   },
   "outputs": [],
   "source": []
  }
 ],
 "metadata": {
  "anaconda-cloud": {},
  "kernelspec": {
   "display_name": "Python [default]",
   "language": "python",
   "name": "python3"
  },
  "language_info": {
   "codemirror_mode": {
    "name": "ipython",
    "version": 3
   },
   "file_extension": ".py",
   "mimetype": "text/x-python",
   "name": "python",
   "nbconvert_exporter": "python",
   "pygments_lexer": "ipython3",
   "version": "3.5.2"
  }
 },
 "nbformat": 4,
 "nbformat_minor": 1
}
